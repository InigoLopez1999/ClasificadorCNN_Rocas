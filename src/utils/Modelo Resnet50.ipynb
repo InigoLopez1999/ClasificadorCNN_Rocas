{
 "cells": [
  {
   "cell_type": "code",
   "execution_count": 1,
   "id": "f07c38fb",
   "metadata": {},
   "outputs": [],
   "source": [
    "import os\n",
    "import pandas as pd\n",
    "import numpy as np\n",
    "import matplotlib.pyplot as plt\n",
    "import tensorflow as tf\n",
    "from tensorflow.keras import layers, models\n",
    "from tensorflow.keras.applications import ResNet50\n",
    "from tensorflow.keras.applications.resnet50 import preprocess_input\n",
    "from tensorflow.keras.callbacks import EarlyStopping\n",
    "from collections import Counter"
   ]
  },
  {
   "cell_type": "markdown",
   "id": "36db9766",
   "metadata": {},
   "source": [
    "##### Se crean los paths al directorio data, donde se encuentran las imágenes"
   ]
  },
  {
   "cell_type": "code",
   "execution_count": 2,
   "id": "2bfc47c2",
   "metadata": {},
   "outputs": [],
   "source": [
    "TRAIN_PATH = \"C:\\\\Users\\\\inilo\\\\OneDrive\\\\Escritorio\\\\ClasificadorCNN_Rocas\\\\src\\\\data\"\n",
    "TEST_PATH = \"C:\\\\Users\\\\inilo\\\\OneDrive\\\\Escritorio\\\\ClasificadorCNN_Rocas\\\\src\\\\data\"\n",
    "VALID_PATH = \"C:\\\\Users\\\\inilo\\\\OneDrive\\\\Escritorio\\\\ClasificadorCNN_Rocas\\\\src\\\\data\""
   ]
  },
  {
   "cell_type": "markdown",
   "id": "67d27ffb",
   "metadata": {},
   "source": [
    "##### Se dividen los directorios en train, test y valid. Se definen tanto el tamaño de los batchs como el tamaño de las imágenes que se analizarán"
   ]
  },
  {
   "cell_type": "markdown",
   "id": "f71c947c",
   "metadata": {},
   "source": [
    "##### En este caso se ha escogido 224 x 224 ya que es la resolución con la que mejor trabaja el modelo ResNet50"
   ]
  },
  {
   "cell_type": "code",
   "execution_count": 3,
   "id": "a73b623a",
   "metadata": {},
   "outputs": [],
   "source": [
    "train_dir = os.path.join(TRAIN_PATH, 'train')\n",
    "validation_dir = os.path.join(VALID_PATH, 'valid')\n",
    "test_dir = os.path.join(TEST_PATH, 'test')\n",
    "\n",
    "BATCH_SIZE = 32\n",
    "IMG_SIZE = (224, 224)"
   ]
  },
  {
   "cell_type": "markdown",
   "id": "94cdf689",
   "metadata": {},
   "source": [
    "##### Se cargan las imágenes de test en una variable aparte donde se extraerán las clases y las imágenes sin procesar para que conserven el color original\n",
    "\n",
    "Más adelanete se llevarán a cabo procesos que cambian la estructura de la imagen, con lo que viene bien tener una variable con las imágenes sin alterar y sus clases asociadas. Estas imágenes inalteradas nos servirán después para ver los resultados de las predicciones junto a los gráficos de barra de la confianza de las predicciones."
   ]
  },
  {
   "cell_type": "markdown",
   "id": "d347835d",
   "metadata": {},
   "source": [
    "Se declara test_dataset_raw y se le pasa el directorio de test, se le indica que no mezcle las imágenes, además de especificarle los tamaños de imagen y batch definidos anteriormente"
   ]
  },
  {
   "cell_type": "code",
   "execution_count": null,
   "id": "f877ba61",
   "metadata": {},
   "outputs": [
    {
     "name": "stdout",
     "output_type": "stream",
     "text": [
      "Found 274 files belonging to 6 classes.\n"
     ]
    }
   ],
   "source": [
    "test_dataset_raw = tf.keras.utils.image_dataset_from_directory( # El distintivo raw distingue esta variable que guarda las imágenes y las etiquetas de lss demás variables que se usarán en el entrenamiento\n",
    "    test_dir,\n",
    "    shuffle=False,\n",
    "    image_size=IMG_SIZE,\n",
    "    batch_size=BATCH_SIZE\n",
    ")"
   ]
  },
  {
   "cell_type": "markdown",
   "id": "0c3a23e1",
   "metadata": {},
   "source": [
    "Se declara la variable que recoge los nombres de cada tipo de roc en class_names. Esto servirá más adelante para las representaciones gráficas como la matriz de confusión o los histogramas de confianza de predicción"
   ]
  },
  {
   "cell_type": "code",
   "execution_count": 5,
   "id": "e27e22b2",
   "metadata": {},
   "outputs": [
    {
     "name": "stdout",
     "output_type": "stream",
     "text": [
      "Clases: ['Conglomerate', 'Dolomitic Limestone', 'Limestone', 'Sandstone', 'Shale_(Mudstone)', 'tezontle']\n"
     ]
    }
   ],
   "source": [
    "class_names = test_dataset_raw.class_names\n",
    "print(\"Clases:\", class_names)"
   ]
  },
  {
   "cell_type": "code",
   "execution_count": null,
   "id": "af8406ec",
   "metadata": {},
   "outputs": [],
   "source": [
    "# Extraer X_test e y_test sin preprocesar\n",
    "X_test_raw = []\n",
    "y_test = []\n",
    "for images, labels in test_dataset_raw:\n",
    "    X_test_raw.extend(images.numpy())\n",
    "    y_test.extend(labels.numpy())\n",
    "X_test_raw = np.array(X_test_raw)\n",
    "y_test = np.array(y_test)"
   ]
  },
  {
   "cell_type": "markdown",
   "id": "953f7e71",
   "metadata": {},
   "source": [
    "##### A continuación se define AUTOTUNE"
   ]
  },
  {
   "cell_type": "markdown",
   "id": "8e111066",
   "metadata": {},
   "source": [
    "En TensorFlow, AUTOTUNE se usa para optimizar el rendimiento del pipeline de entrada de datos, especialmente en la carga y procesamiento de imágenes desde el disco. Ayuda a reducir el tiempo de entrenamiento y aprovecha mejor los recursos del sistema."
   ]
  },
  {
   "cell_type": "code",
   "execution_count": 6,
   "id": "583e6b11",
   "metadata": {},
   "outputs": [],
   "source": [
    "AUTOTUNE = tf.data.AUTOTUNE"
   ]
  },
  {
   "cell_type": "markdown",
   "id": "33ed73f8",
   "metadata": {},
   "source": [
    "Se define la función preprocess que procesará las imágenes de cada conjunto"
   ]
  },
  {
   "cell_type": "code",
   "execution_count": 7,
   "id": "ae65ef45",
   "metadata": {},
   "outputs": [],
   "source": [
    "def preprocess(image, label):\n",
    "    image = preprocess_input(image)\n",
    "    return image, label"
   ]
  },
  {
   "cell_type": "markdown",
   "id": "ad6848a0",
   "metadata": {},
   "source": [
    "Con from_directory se definen las variables que almecenarán las fotos para luego procesarlas. Así como en test_dataset_raw, se definen los directorios de train, test y valid y se determina si se desea mezclar las imágenes (en el caso del entrenamiento es recomendable para evitar sesgos)"
   ]
  },
  {
   "cell_type": "code",
   "execution_count": 8,
   "id": "b31cc077",
   "metadata": {},
   "outputs": [
    {
     "name": "stdout",
     "output_type": "stream",
     "text": [
      "Found 5667 files belonging to 6 classes.\n"
     ]
    }
   ],
   "source": [
    "train_dataset = tf.keras.utils.image_dataset_from_directory(train_dir,\n",
    "                                                            shuffle=True,\n",
    "                                                            batch_size=BATCH_SIZE,\n",
    "                                                            image_size=IMG_SIZE)"
   ]
  },
  {
   "cell_type": "code",
   "execution_count": 9,
   "id": "b9568513",
   "metadata": {},
   "outputs": [
    {
     "name": "stdout",
     "output_type": "stream",
     "text": [
      "Found 539 files belonging to 6 classes.\n"
     ]
    }
   ],
   "source": [
    "validation_dataset = tf.keras.utils.image_dataset_from_directory(validation_dir,\n",
    "                                                                 shuffle=True,\n",
    "                                                                 batch_size=BATCH_SIZE,\n",
    "                                                                 image_size=IMG_SIZE)"
   ]
  },
  {
   "cell_type": "code",
   "execution_count": 10,
   "id": "f63fa23c",
   "metadata": {},
   "outputs": [
    {
     "name": "stdout",
     "output_type": "stream",
     "text": [
      "Found 274 files belonging to 6 classes.\n"
     ]
    }
   ],
   "source": [
    "test_dataset = tf.keras.utils.image_dataset_from_directory(test_dir,\n",
    "                                                                 shuffle=False,\n",
    "                                                                 batch_size=BATCH_SIZE,\n",
    "                                                                 image_size=IMG_SIZE)"
   ]
  },
  {
   "cell_type": "markdown",
   "id": "0db3b012",
   "metadata": {},
   "source": [
    "Ahora viene el procesamiento, en este caso se realiza un .map() y .prefecth() a cada una de las variables que contienen las imágenes de cada conjunto. Map aplica transformaciones a las imágenes (como preprocess) en paralelo usando tantos núcleos como sea eficiente gracias a AUTOTUNE. Prefetch carga por adelantado lotes de imágenes mientras el modelo está entrenando el lote actual, evitando cuallos de botella por lectura de disco."
   ]
  },
  {
   "cell_type": "code",
   "execution_count": 11,
   "id": "d2eced6d",
   "metadata": {},
   "outputs": [],
   "source": [
    "train_dataset = train_dataset.map(preprocess, num_parallel_calls=AUTOTUNE)\n",
    "validation_dataset = validation_dataset.map(preprocess, num_parallel_calls=AUTOTUNE)\n",
    "test_dataset = test_dataset.map(preprocess, num_parallel_calls=AUTOTUNE)\n",
    "\n",
    "train_dataset = train_dataset.prefetch(buffer_size=AUTOTUNE)\n",
    "validation_dataset = validation_dataset.prefetch(buffer_size=AUTOTUNE)\n",
    "test_dataset = test_dataset.prefetch(buffer_size=AUTOTUNE)"
   ]
  },
  {
   "cell_type": "markdown",
   "id": "27dde422",
   "metadata": {},
   "source": [
    "#### Comenzamos la construcción del modelo"
   ]
  },
  {
   "cell_type": "markdown",
   "id": "abc92aac",
   "metadata": {},
   "source": [
    "1. Declaramos el modelo ResNet50, un modelo de Transfer Learning de 50 capas diseñada para clasificación de imágenes.\n",
    "Se indica que el shape de la imagen como 224 x 224 y se añaden los 3 canales de colores.\n",
    "Con 'include_top = False' se quitan las últimas capas de clasificación de ImageNet al tener un número diferente de clases\n",
    "Se especifica que se utilizarán los pesos de ImageNet con 'weights'.\n",
    "\n",
    "2. Al principio las capas de ResNet no se entrenarán, únicamente lo harán las nuevas capas añadidas. Esto lo podemos indicar declarando 'traibnable' como False.\n",
    "\n",
    "3. Se contruyen las capas del modelo:\n",
    "GlobalAveragePooling2D aplana la salida del modelo base haciendo un promedio por canal. Esto reduce la dimensionalidad y evita el uso de muchas neuronas.\n",
    "A continuación hay una capa de 128 neuronas ideal para casos de Deep Learning y que detectan patrones personalizados.\n",
    "El Dropout apaga aleatoriamente en este caso el 30% de las neuronas en cada batch durante la etapa de train para así mejorar la generalización\n",
    "La última capa debe coincidir con el número de clases (en este caso son 6 tipos de roca). Softmax asegura que la suma de probabilidades sea 1."
   ]
  },
  {
   "cell_type": "code",
   "execution_count": 13,
   "id": "99be2c55",
   "metadata": {},
   "outputs": [],
   "source": [
    "base_model = ResNet50(input_shape=IMG_SIZE + (3,),\n",
    "                      include_top=False,\n",
    "                      weights='imagenet')\n",
    "\n",
    "base_model.trainable = False\n",
    "\n",
    "model = models.Sequential([\n",
    "    base_model,\n",
    "    layers.GlobalAveragePooling2D(),\n",
    "    layers.Dense(128, activation='relu'),\n",
    "    layers.Dropout(0.3),\n",
    "    layers.Dense(6, activation='softmax')  # 6 clases\n",
    "])"
   ]
  },
  {
   "cell_type": "markdown",
   "id": "e588f235",
   "metadata": {},
   "source": [
    "#### Compilación del modelo"
   ]
  },
  {
   "cell_type": "code",
   "execution_count": 1,
   "id": "b86b071d",
   "metadata": {},
   "outputs": [
    {
     "ename": "NameError",
     "evalue": "name 'model' is not defined",
     "output_type": "error",
     "traceback": [
      "\u001b[31m---------------------------------------------------------------------------\u001b[39m",
      "\u001b[31mNameError\u001b[39m                                 Traceback (most recent call last)",
      "\u001b[36mCell\u001b[39m\u001b[36m \u001b[39m\u001b[32mIn[1]\u001b[39m\u001b[32m, line 1\u001b[39m\n\u001b[32m----> \u001b[39m\u001b[32m1\u001b[39m \u001b[43mmodel\u001b[49m.compile(optimizer=\u001b[33m'\u001b[39m\u001b[33madam\u001b[39m\u001b[33m'\u001b[39m,\n\u001b[32m      2\u001b[39m               loss=\u001b[33m'\u001b[39m\u001b[33msparse_categorical_crossentropy\u001b[39m\u001b[33m'\u001b[39m,\n\u001b[32m      3\u001b[39m               metrics=[\u001b[33m'\u001b[39m\u001b[33maccuracy\u001b[39m\u001b[33m'\u001b[39m])\n\u001b[32m      5\u001b[39m model.summary()\n",
      "\u001b[31mNameError\u001b[39m: name 'model' is not defined"
     ]
    }
   ],
   "source": [
    "model.compile(optimizer='adam',\n",
    "              loss='sparse_categorical_crossentropy',\n",
    "              metrics=['accuracy'])\n",
    "\n",
    "model.summary()"
   ]
  },
  {
   "cell_type": "markdown",
   "id": "bbe1d5ac",
   "metadata": {},
   "source": [
    "#### Declaramos el EarlyStopping"
   ]
  },
  {
   "cell_type": "markdown",
   "id": "2009cc24",
   "metadata": {},
   "source": [
    "1. En este caso se monitorea la pérdida del conjunto de validación durante el entrenamiento (val_loss).\n",
    "Se esperan hasta 15 épocas consecutivas sin mejora antes de detener el train. Se interrumpirá el entrenamiento si no se observa dicha mejora en el entrenamiento.\n",
    "Con 'restore_best_weights = True' se recuperan los pesos del modelo correspondientes a la época donde se obtuvo el mejor rendimiento (menos val_los). Esto ayuda a no usar posteriormente datos sobreentrenados.\n",
    "\n",
    "2. Se definen un máximo de 50 épocas.\n",
    "\n",
    "3. Hacemos el fit del modelo con conjunto de train y usando el conjunto de validación para evaluar el desempeño tras cada época."
   ]
  },
  {
   "cell_type": "code",
   "execution_count": 15,
   "id": "87de0c62",
   "metadata": {},
   "outputs": [
    {
     "name": "stdout",
     "output_type": "stream",
     "text": [
      "Epoch 1/50\n",
      "178/178 [==============================] - 279s 2s/step - loss: 1.0000 - accuracy: 0.6333 - val_loss: 0.8369 - val_accuracy: 0.7050\n",
      "Epoch 2/50\n",
      "178/178 [==============================] - 275s 2s/step - loss: 0.5468 - accuracy: 0.8025 - val_loss: 0.7265 - val_accuracy: 0.7551\n",
      "Epoch 3/50\n",
      "178/178 [==============================] - 323s 2s/step - loss: 0.3676 - accuracy: 0.8742 - val_loss: 0.6101 - val_accuracy: 0.7978\n",
      "Epoch 4/50\n",
      "178/178 [==============================] - 354s 2s/step - loss: 0.2721 - accuracy: 0.9070 - val_loss: 0.6019 - val_accuracy: 0.8256\n",
      "Epoch 5/50\n",
      "178/178 [==============================] - 205s 1s/step - loss: 0.2062 - accuracy: 0.9314 - val_loss: 0.6051 - val_accuracy: 0.8219\n",
      "Epoch 6/50\n",
      "178/178 [==============================] - 283s 2s/step - loss: 0.1404 - accuracy: 0.9562 - val_loss: 0.5758 - val_accuracy: 0.8349\n",
      "Epoch 7/50\n",
      "178/178 [==============================] - 205s 1s/step - loss: 0.1283 - accuracy: 0.9605 - val_loss: 0.5897 - val_accuracy: 0.8460\n",
      "Epoch 8/50\n",
      "178/178 [==============================] - 186s 1s/step - loss: 0.1027 - accuracy: 0.9689 - val_loss: 0.5948 - val_accuracy: 0.8553\n",
      "Epoch 9/50\n",
      "178/178 [==============================] - 205s 1s/step - loss: 0.1009 - accuracy: 0.9661 - val_loss: 0.6665 - val_accuracy: 0.8423\n",
      "Epoch 10/50\n",
      "178/178 [==============================] - 225s 1s/step - loss: 0.0745 - accuracy: 0.9785 - val_loss: 0.6429 - val_accuracy: 0.8330\n",
      "Epoch 11/50\n",
      "178/178 [==============================] - 547s 3s/step - loss: 0.0695 - accuracy: 0.9786 - val_loss: 0.7199 - val_accuracy: 0.8293\n",
      "Epoch 12/50\n",
      "178/178 [==============================] - 687s 4s/step - loss: 0.0742 - accuracy: 0.9762 - val_loss: 0.6877 - val_accuracy: 0.8275\n",
      "Epoch 13/50\n",
      "178/178 [==============================] - 345s 2s/step - loss: 0.0740 - accuracy: 0.9749 - val_loss: 0.6778 - val_accuracy: 0.8442\n",
      "Epoch 14/50\n",
      "178/178 [==============================] - 277s 2s/step - loss: 0.0611 - accuracy: 0.9792 - val_loss: 0.7600 - val_accuracy: 0.8423\n",
      "Epoch 15/50\n",
      "178/178 [==============================] - 10469s 59s/step - loss: 0.0463 - accuracy: 0.9839 - val_loss: 0.7595 - val_accuracy: 0.8423\n",
      "Epoch 16/50\n",
      "178/178 [==============================] - 251s 1s/step - loss: 0.0718 - accuracy: 0.9746 - val_loss: 0.7620 - val_accuracy: 0.8386\n",
      "Epoch 17/50\n",
      "178/178 [==============================] - 292s 2s/step - loss: 0.0540 - accuracy: 0.9831 - val_loss: 0.7096 - val_accuracy: 0.8386\n",
      "Epoch 18/50\n",
      "178/178 [==============================] - 292s 2s/step - loss: 0.0530 - accuracy: 0.9831 - val_loss: 0.7616 - val_accuracy: 0.8367\n",
      "Epoch 19/50\n",
      "178/178 [==============================] - 384s 2s/step - loss: 0.0597 - accuracy: 0.9794 - val_loss: 0.7370 - val_accuracy: 0.8516\n",
      "Epoch 20/50\n",
      "178/178 [==============================] - 393s 2s/step - loss: 0.0529 - accuracy: 0.9816 - val_loss: 0.7891 - val_accuracy: 0.8423\n",
      "Epoch 21/50\n",
      "178/178 [==============================] - 330s 2s/step - loss: 0.0562 - accuracy: 0.9809 - val_loss: 0.7104 - val_accuracy: 0.8460\n",
      "Epoch 22/50\n",
      "178/178 [==============================] - 285s 2s/step - loss: 0.0552 - accuracy: 0.9797 - val_loss: 0.8825 - val_accuracy: 0.8442\n",
      "Epoch 23/50\n",
      "178/178 [==============================] - 294s 2s/step - loss: 0.0544 - accuracy: 0.9818 - val_loss: 0.8041 - val_accuracy: 0.8367\n",
      "Epoch 24/50\n",
      "178/178 [==============================] - 306s 2s/step - loss: 0.0413 - accuracy: 0.9854 - val_loss: 0.8367 - val_accuracy: 0.8442\n",
      "Epoch 25/50\n",
      "178/178 [==============================] - 394s 2s/step - loss: 0.0439 - accuracy: 0.9834 - val_loss: 0.9352 - val_accuracy: 0.8386\n",
      "Epoch 26/50\n",
      "178/178 [==============================] - 380s 2s/step - loss: 0.0430 - accuracy: 0.9848 - val_loss: 0.9046 - val_accuracy: 0.8460\n"
     ]
    }
   ],
   "source": [
    "early_stopping = EarlyStopping(\n",
    "    monitor='val_loss',\n",
    "    patience=20,\n",
    "    restore_best_weights=True\n",
    ")\n",
    "\n",
    "EPOCHS = 50\n",
    "\n",
    "history = model.fit(\n",
    "    train_dataset,\n",
    "    validation_data=validation_dataset,\n",
    "    epochs=EPOCHS,\n",
    "    callbacks=[early_stopping],\n",
    ")"
   ]
  },
  {
   "cell_type": "markdown",
   "id": "c1584fc6",
   "metadata": {},
   "source": [
    "#### Fine-tuning"
   ]
  },
  {
   "cell_type": "markdown",
   "id": "7af568c6",
   "metadata": {},
   "source": [
    "1. Una vez entrenado el clasificador, se desbloquean las capas profundas del modelo preentrenado ResNet50 para ajustar los pesos con nuestro dataset.\n",
    "\n",
    "2. Se define el límite de 'congelamiento' de capas a 120 (las capas desde la 120 a la capa final serán ajustadas). Esto ayuda a evitar el overfitting.\n",
    "\n",
    "3. Se vuelve a recompliar el modelo al haber modificado las capas entrenables. Se usa un learning rate mucho más bajo para que los pesos no se alteren bruscamente.\n",
    "\n",
    "4. Se añaden 10 épocas más después del entrenamiento inicial.\n",
    "\n",
    "5. Se retoma el entrea¡namiento donde acabo el fit anterior gracias al parámetro initial_epoch."
   ]
  },
  {
   "cell_type": "code",
   "execution_count": 16,
   "id": "f556ab96",
   "metadata": {},
   "outputs": [
    {
     "name": "stdout",
     "output_type": "stream",
     "text": [
      "Epoch 27/60\n",
      "178/178 [==============================] - 649s 4s/step - loss: 0.5210 - accuracy: 0.8355 - val_loss: 0.6977 - val_accuracy: 0.8330\n",
      "Epoch 28/60\n",
      "178/178 [==============================] - 717s 4s/step - loss: 0.1535 - accuracy: 0.9472 - val_loss: 0.6585 - val_accuracy: 0.8571\n",
      "Epoch 29/60\n",
      "178/178 [==============================] - 592s 3s/step - loss: 0.0929 - accuracy: 0.9711 - val_loss: 0.6598 - val_accuracy: 0.8590\n",
      "Epoch 30/60\n",
      "178/178 [==============================] - 608s 3s/step - loss: 0.0634 - accuracy: 0.9811 - val_loss: 0.6704 - val_accuracy: 0.8534\n",
      "Epoch 31/60\n",
      "178/178 [==============================] - 609s 3s/step - loss: 0.0491 - accuracy: 0.9848 - val_loss: 0.6854 - val_accuracy: 0.8609\n",
      "Epoch 32/60\n",
      "178/178 [==============================] - 620s 3s/step - loss: 0.0340 - accuracy: 0.9917 - val_loss: 0.6861 - val_accuracy: 0.8609\n",
      "Epoch 33/60\n",
      "178/178 [==============================] - 650s 4s/step - loss: 0.0334 - accuracy: 0.9914 - val_loss: 0.6921 - val_accuracy: 0.8609\n",
      "Epoch 34/60\n",
      "178/178 [==============================] - 766s 4s/step - loss: 0.0265 - accuracy: 0.9928 - val_loss: 0.7037 - val_accuracy: 0.8553\n",
      "Epoch 35/60\n",
      "178/178 [==============================] - 760s 4s/step - loss: 0.0202 - accuracy: 0.9956 - val_loss: 0.7295 - val_accuracy: 0.8553\n",
      "Epoch 36/60\n",
      "178/178 [==============================] - 1395s 8s/step - loss: 0.0194 - accuracy: 0.9958 - val_loss: 0.7365 - val_accuracy: 0.8627\n",
      "Epoch 37/60\n",
      "178/178 [==============================] - 766s 4s/step - loss: 0.0163 - accuracy: 0.9956 - val_loss: 0.7345 - val_accuracy: 0.8609\n",
      "Epoch 38/60\n",
      "178/178 [==============================] - 793s 4s/step - loss: 0.0147 - accuracy: 0.9972 - val_loss: 0.7559 - val_accuracy: 0.8590\n",
      "Epoch 39/60\n",
      "178/178 [==============================] - 580s 3s/step - loss: 0.0111 - accuracy: 0.9977 - val_loss: 0.7692 - val_accuracy: 0.8497\n",
      "Epoch 40/60\n",
      "178/178 [==============================] - 445s 2s/step - loss: 0.0098 - accuracy: 0.9981 - val_loss: 0.7843 - val_accuracy: 0.8609\n",
      "Epoch 41/60\n",
      "178/178 [==============================] - 416s 2s/step - loss: 0.0114 - accuracy: 0.9972 - val_loss: 0.8036 - val_accuracy: 0.8571\n",
      "Epoch 42/60\n",
      "178/178 [==============================] - 415s 2s/step - loss: 0.0112 - accuracy: 0.9979 - val_loss: 0.8355 - val_accuracy: 0.8553\n",
      "Epoch 43/60\n",
      "178/178 [==============================] - 429s 2s/step - loss: 0.0089 - accuracy: 0.9981 - val_loss: 0.8281 - val_accuracy: 0.8609\n",
      "Epoch 44/60\n",
      "178/178 [==============================] - 419s 2s/step - loss: 0.0080 - accuracy: 0.9981 - val_loss: 0.8745 - val_accuracy: 0.8553\n",
      "Epoch 45/60\n",
      "178/178 [==============================] - 419s 2s/step - loss: 0.0078 - accuracy: 0.9982 - val_loss: 0.8943 - val_accuracy: 0.8571\n",
      "Epoch 46/60\n",
      "178/178 [==============================] - 407s 2s/step - loss: 0.0073 - accuracy: 0.9984 - val_loss: 0.8698 - val_accuracy: 0.8590\n",
      "Epoch 47/60\n",
      "178/178 [==============================] - 399s 2s/step - loss: 0.0097 - accuracy: 0.9977 - val_loss: 0.9266 - val_accuracy: 0.8590\n",
      "Epoch 48/60\n",
      "178/178 [==============================] - 630s 4s/step - loss: 0.0088 - accuracy: 0.9979 - val_loss: 0.9159 - val_accuracy: 0.8534\n"
     ]
    }
   ],
   "source": [
    "base_model.trainable = True\n",
    "\n",
    "fine_tune_at = 120\n",
    "for layer in base_model.layers[:fine_tune_at]:\n",
    "    layer.trainable = False\n",
    "\n",
    "model.compile(\n",
    "    optimizer=tf.keras.optimizers.Adam(learning_rate=1e-5),\n",
    "    loss='sparse_categorical_crossentropy',\n",
    "    metrics=['accuracy']\n",
    ")\n",
    "\n",
    "total_epochs = EPOCHS + 10\n",
    "\n",
    "history_finetune = model.fit(\n",
    "    train_dataset,\n",
    "    validation_data=validation_dataset,\n",
    "    epochs=total_epochs,\n",
    "    initial_epoch=history.epoch[-1] + 1,\n",
    "    callbacks=[early_stopping]\n",
    ")"
   ]
  },
  {
   "cell_type": "markdown",
   "id": "65ece602",
   "metadata": {},
   "source": [
    "Ploteamos el history para ver la evolución de las funciones de pérdida y la variación de la precisión al ir aumentando las épocas. "
   ]
  },
  {
   "cell_type": "code",
   "execution_count": 17,
   "id": "ef8628ed",
   "metadata": {},
   "outputs": [
    {
     "data": {
      "text/plain": [
       "<Axes: >"
      ]
     },
     "execution_count": 17,
     "metadata": {},
     "output_type": "execute_result"
    },
    {
     "data": {
      "image/png": "[encoded data removed]",
      "text/plain": [
       "<Figure size 640x480 with 1 Axes>"
      ]
     },
     "metadata": {},
     "output_type": "display_data"
    }
   ],
   "source": [
    "pd.DataFrame(history.history).plot()"
   ]
  },
  {
   "cell_type": "markdown",
   "id": "8b159491",
   "metadata": {},
   "source": [
    "Evaluamos el rendimiento del modelo sobre el conunto de test. Con esto obtenemos dos valores: test_loss indica lo bien que se ajusta un modelo a los datos de test, mientras que test_accuracy indica el % de aciertos sobre las imágenes en el conjunto de test."
   ]
  },
  {
   "cell_type": "code",
   "execution_count": 18,
   "id": "76ac24b9",
   "metadata": {},
   "outputs": [
    {
     "name": "stdout",
     "output_type": "stream",
     "text": [
      "9/9 [==============================] - 11s 1s/step - loss: 0.6158 - accuracy: 0.8796\n",
      "Precisión en test: 87.96%\n"
     ]
    }
   ],
   "source": [
    "test_loss, test_accuracy = model.evaluate(test_dataset)\n",
    "print(f\"Precisión en test: {test_accuracy * 100:.2f}%\")"
   ]
  },
  {
   "cell_type": "markdown",
   "id": "88b08672",
   "metadata": {},
   "source": [
    "Creamos una matriz de confusión para ver concretamente qué clases son las mejores predichas y cuáles son las que el modelo tiene más dificultades para clasificar. En nuestro caso, las calizas dolomíticas son las que poseen más falsos positivos y las calizas son las rocas que mejor clasifica nuestro modelo."
   ]
  },
  {
   "cell_type": "code",
   "execution_count": 19,
   "id": "16e1206f",
   "metadata": {},
   "outputs": [
    {
     "name": "stdout",
     "output_type": "stream",
     "text": [
      "1/1 [==============================] - 2s 2s/step\n",
      "1/1 [==============================] - 1s 1s/step\n",
      "1/1 [==============================] - 1s 1s/step\n",
      "1/1 [==============================] - 1s 1s/step\n",
      "1/1 [==============================] - 1s 1s/step\n",
      "1/1 [==============================] - 1s 1s/step\n",
      "1/1 [==============================] - 1s 1s/step\n",
      "1/1 [==============================] - 1s 1s/step\n",
      "1/1 [==============================] - 1s 1s/step\n"
     ]
    },
    {
     "data": {
      "text/plain": [
       "<sklearn.metrics._plot.confusion_matrix.ConfusionMatrixDisplay at 0x229278fae90>"
      ]
     },
     "execution_count": 19,
     "metadata": {},
     "output_type": "execute_result"
    },
    {
     "data": {
      "image/png": "[encoded data removed]",
      "text/plain": [
       "<Figure size 640x480 with 2 Axes>"
      ]
     },
     "metadata": {},
     "output_type": "display_data"
    }
   ],
   "source": [
    "from sklearn.metrics import confusion_matrix, ConfusionMatrixDisplay\n",
    "import numpy as np\n",
    "\n",
    "y_true = []\n",
    "y_pred = []\n",
    "\n",
    "for images, labels in test_dataset:\n",
    "    preds = model.predict(images)\n",
    "    y_true.extend(labels.numpy())\n",
    "    y_pred.extend(np.argmax(preds, axis=1))\n",
    "\n",
    "cm = confusion_matrix(y_true, y_pred)\n",
    "disp = ConfusionMatrixDisplay(confusion_matrix=cm, display_labels=class_names)\n",
    "disp.plot(xticks_rotation=45)"
   ]
  },
  {
   "cell_type": "markdown",
   "id": "78ba5dc5",
   "metadata": {},
   "source": [
    "#### Hacemos las predicciones con los datos de test"
   ]
  },
  {
   "cell_type": "markdown",
   "id": "7772fb31",
   "metadata": {},
   "source": [
    "Predecimos para la probabilidad de que cada imagen pertenezca a cada clase. Con ayuda de argmax, podemos obtener la clase más probable para cada imagen."
   ]
  },
  {
   "cell_type": "code",
   "execution_count": 20,
   "id": "51812cd1",
   "metadata": {},
   "outputs": [
    {
     "name": "stdout",
     "output_type": "stream",
     "text": [
      "9/9 [==============================] - 10s 1s/step\n"
     ]
    }
   ],
   "source": [
    "y_pred_probs = model.predict(test_dataset)\n",
    "y_pred = np.argmax(y_pred_probs, axis=1)"
   ]
  },
  {
   "cell_type": "markdown",
   "id": "f61c975c",
   "metadata": {},
   "source": [
    "Este conjunto de funciones permite visualizar el conjunto de imágenes de test y junto a cada imagen se representa un plot de los grados de confianza para cada clase. La clase correcta vendrá representada en azul y, en caso de que el mayor nivel de confianza no coincida con la etiqueta real de los fotografía, se pintará la barra del gráfico en rojo."
   ]
  },
  {
   "cell_type": "code",
   "execution_count": 21,
   "id": "b2e3fcfb",
   "metadata": {},
   "outputs": [],
   "source": [
    "def plot_image(i, predictions_array, true_label, img):\n",
    "  predictions_array, true_label, img = predictions_array, true_label[i], img[i]\n",
    "  plt.grid(False)\n",
    "  plt.xticks([])\n",
    "  plt.yticks([])\n",
    "\n",
    "  plt.imshow(img.astype(\"uint8\"))\n",
    "\n",
    "  predicted_label = np.argmax(predictions_array)\n",
    "  if predicted_label == true_label:\n",
    "    color = 'blue'\n",
    "  else:\n",
    "    color = 'red'\n",
    "\n",
    "  plt.xlabel(\"{} {:2.0f}% ({})\".format(class_names[predicted_label],\n",
    "                                100*np.max(predictions_array),\n",
    "                                class_names[true_label]),\n",
    "                                color=color)\n",
    "\n",
    "def plot_value_array(i, predictions_array, true_label):\n",
    "  predictions_array, true_label = predictions_array, true_label[i]\n",
    "  plt.grid(False)\n",
    "  plt.xticks(range(len(class_names)))\n",
    "  plt.yticks([])\n",
    "  thisplot = plt.bar(range(len(class_names)), predictions_array, color=\"#777777\")\n",
    "  plt.ylim([0, 1])\n",
    "  predicted_label = np.argmax(predictions_array)\n",
    "\n",
    "  thisplot[predicted_label].set_color('red')\n",
    "  thisplot[true_label].set_color('blue')"
   ]
  },
  {
   "cell_type": "markdown",
   "id": "28cc345a",
   "metadata": {},
   "source": [
    "Visualizamos una serie de imágenes del test con sus predicciones correspondientes. Podemos ver que la mayoría están bien predichas pues la barra azul es la que mayor cinfianza tiene pero otras imágenes no han sido bien clasificadas."
   ]
  },
  {
   "cell_type": "code",
   "execution_count": null,
   "id": "bb3ecea3",
   "metadata": {},
   "outputs": [
    {
     "ename": "NameError",
     "evalue": "name 'np' is not defined",
     "output_type": "error",
     "traceback": [
      "\u001b[31m---------------------------------------------------------------------------\u001b[39m",
      "\u001b[31mNameError\u001b[39m                                 Traceback (most recent call last)",
      "\u001b[36mCell\u001b[39m\u001b[36m \u001b[39m\u001b[32mIn[2]\u001b[39m\u001b[32m, line 4\u001b[39m\n\u001b[32m      2\u001b[39m num_cols = \u001b[32m3\u001b[39m\n\u001b[32m      3\u001b[39m num_images = num_rows*num_cols\n\u001b[32m----> \u001b[39m\u001b[32m4\u001b[39m random_indices = \u001b[43mnp\u001b[49m.random.choice(\u001b[38;5;28mlen\u001b[39m(X_test_raw), num_images, replace=\u001b[38;5;28;01mFalse\u001b[39;00m)\n\u001b[32m      5\u001b[39m plt.figure(figsize=(\u001b[32m18\u001b[39m, \u001b[32m15\u001b[39m))\n\u001b[32m      6\u001b[39m \u001b[38;5;28;01mfor\u001b[39;00m i, idx \u001b[38;5;129;01min\u001b[39;00m \u001b[38;5;28menumerate\u001b[39m(random_indices):\n",
      "\u001b[31mNameError\u001b[39m: name 'np' is not defined"
     ]
    }
   ],
   "source": [
    "num_rows = 4\n",
    "num_cols = 2\n",
    "num_images = num_rows*num_cols\n",
    "random_indices = np.random.choice(len(X_test_raw), num_images, replace=False)\n",
    "plt.rcParams.update({'font.size': 14})\n",
    "plt.figure(figsize=(18, 15))\n",
    "for i, idx in enumerate(random_indices):\n",
    "  plt.subplot(num_rows, 2*num_cols, 2*i+1)\n",
    "  plot_image(idx, y_pred_probs[idx], y_test, X_test_raw)\n",
    "  plt.subplot(num_rows, 2*num_cols, 2*i+2)\n",
    "  plot_value_array(idx, y_pred_probs[idx], y_test)\n",
    "plt.tight_layout()\n",
    "plt.show()"
   ]
  },
  {
   "cell_type": "markdown",
   "id": "4102fb7c",
   "metadata": {},
   "source": [
    "#### Histograma de confianzas"
   ]
  },
  {
   "cell_type": "code",
   "execution_count": 24,
   "id": "4a0ecaa6",
   "metadata": {},
   "outputs": [
    {
     "data": {
      "image/png": "[encoded data removed]",
      "text/plain": [
       "<Figure size 640x480 with 1 Axes>"
      ]
     },
     "metadata": {},
     "output_type": "display_data"
    }
   ],
   "source": [
    "confidences = np.max(y_pred_probs, axis=1)\n",
    "\n",
    "plt.hist(confidences, bins=20)\n",
    "plt.xlabel('Confianza de predicción')\n",
    "plt.ylabel('Número de imágenes')\n",
    "plt.title('Distribución de confianzas del modelo')\n",
    "plt.show()"
   ]
  },
  {
   "cell_type": "markdown",
   "id": "fb39839a",
   "metadata": {},
   "source": [
    "Podemos calcular el número de errores donde el modelo estaba practicamente seguro que había clasificado bien la imagen"
   ]
  },
  {
   "cell_type": "code",
   "execution_count": 25,
   "id": "ce1bd336",
   "metadata": {},
   "outputs": [
    {
     "name": "stdout",
     "output_type": "stream",
     "text": [
      "Número de errores con confianza > 90%: 15\n"
     ]
    }
   ],
   "source": [
    "wrong_confident = [(i, conf) for i, (conf, true, pred) in enumerate(zip(confidences, y_test, y_pred)) if true != pred and conf > 0.9]\n",
    "\n",
    "print(f\"Número de errores con confianza > 90%: {len(wrong_confident)}\")"
   ]
  }
 ],
 "metadata": {
  "kernelspec": {
   "display_name": "Python 3",
   "language": "python",
   "name": "python3"
  },
  "language_info": {
   "codemirror_mode": {
    "name": "ipython",
    "version": 3
   },
   "file_extension": ".py",
   "mimetype": "text/x-python",
   "name": "python",
   "nbconvert_exporter": "python",
   "pygments_lexer": "ipython3",
   "version": "3.11.9"
  }
 },
 "nbformat": 4,
 "nbformat_minor": 5
}
